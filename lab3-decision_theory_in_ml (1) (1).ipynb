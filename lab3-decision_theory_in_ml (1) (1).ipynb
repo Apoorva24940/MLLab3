{
 "cells": [
  {
   "cell_type": "markdown",
   "metadata": {},
   "source": [
    "# Lab 3 - Decision Theory in Machine Learning\n",
    "\n",
    "Welcome to this week's lab on Decision Theory! This week, we are going to explore the basics of making decisions using simple and intuitive examples. Ads we have not yet started discussing neural networks, there is no need for deep knowledge in machine learning or neural networks here. We are focusing on the core principles that underlie decision-making in computational systems.\n",
    "\n",
    "## Objectives\n",
    "\n",
    "1. Understand the fundamentals of Decision Theory.\n",
    "2. Apply Decision Theory to solve simple problems.\n",
    "3. Develop the skills to implement basic decision-making systems."
   ]
  },
  {
   "cell_type": "markdown",
   "metadata": {},
   "source": [
    "## Part 1: Choosing a Vacation Destination\n",
    "\n",
    "In this example, we will decide on a vacation destination based on various factors like cost, distance, and activities."
   ]
  },
  {
   "cell_type": "markdown",
   "metadata": {},
   "source": [
    "### Step 1: Define the Problem\n",
    "\n",
    "Let's define the problem:\n",
    "- We have 3 vacation destinations: Beach, Mountain, and City.\n",
    "- Each destination is evaluated based on three criteria: cost (low, medium, high), distance (near, far), and activities (few, many)."
   ]
  },
  {
   "cell_type": "markdown",
   "metadata": {},
   "source": [
    "### Step 2: Create the Decision Matrix\n",
    "\n",
    "One approach to tackle such problems is to create a Decision Matrix! A Dcision Matrix for this problem can be created as below:"
   ]
  },
  {
   "cell_type": "code",
   "execution_count": null,
   "metadata": {},
   "outputs": [],
   "source": [
    "import pandas as pd\n",
    "\n",
    "# Define the decision matrix\n",
    "data = {\n",
    "    'Cost': ['Low', 'High', 'Medium'],\n",
    "    'Distance': ['Near', 'Far', 'Near'],\n",
    "    'Activities': ['Many', 'Few', 'Many']\n",
    "}\n",
    "destinations = pd.DataFrame(data, index=['Beach', 'Mountain', 'City'])"
   ]
  },
  {
   "cell_type": "markdown",
   "metadata": {},
   "source": [
    "### Step 3: Apply Decision Rules\n",
    "\n",
    "We can create a simple scoring system for each criterion (e.g., Low Cost = 3 points, High Cost = 1 point). Then we can calculate the total score for each destination."
   ]
  },
  {
   "cell_type": "code",
   "execution_count": null,
   "metadata": {},
   "outputs": [],
   "source": [
    "# Decision rules as functions\n",
    "def cost_score(cost):\n",
    "    if cost == 'Low':\n",
    "        return 3\n",
    "    elif cost == 'Medium':\n",
    "        return 2\n",
    "    else:\n",
    "        return 1\n",
    "\n",
    "def distance_score(distance):\n",
    "    return 3 if distance == 'Near' else 1\n",
    "\n",
    "def activities_score(activities):\n",
    "    return 3 if activities == 'Many' else 1"
   ]
  },
  {
   "cell_type": "markdown",
   "metadata": {},
   "source": [
    "### Step 4: Make a Decision\n",
    "\n",
    "Now, we are ready to make a decision on which destination to choose based on the highest score."
   ]
  },
  {
   "cell_type": "code",
   "execution_count": null,
   "metadata": {},
   "outputs": [],
   "source": [
    "# Calculate scores\n",
    "destinations['Total Score'] = destinations.apply(lambda x: cost_score(x['Cost']) + distance_score(x['Distance']) + activities_score(x['Activities']), axis=1)\n",
    "\n",
    "# Display the result\n",
    "destinations"
   ]
  },
  {
   "cell_type": "markdown",
   "metadata": {},
   "source": [
    "## Part 2: Choosing a Smartphone\n",
    "\n",
    "Your task is to choose a smartphone based on different criteria like price, battery life, and camera quality.\n",
    "\n",
    "Tasks\n",
    "Define your criteria for selecting a smartphone.\n",
    "Set up a decision matrix for different smartphone options.\n",
    "Apply decision rules to score each smartphone.\n",
    "Make a decision based on the highest score.\n",
    "Guidelines\n",
    "Think about the factors that are most important to you in a smartphone.\n",
    "Be creative in defining your scoring system."
   ]
  },
  {
   "cell_type": "markdown",
   "metadata": {},
   "source": [
    "### Task 1: Criteria\n",
    "Define your criteria for selecting a smartphone."
   ]
  },
  {
   "cell_type": "code",
   "execution_count": 2,
   "metadata": {},
   "outputs": [
    {
     "name": "stdout",
     "output_type": "stream",
     "text": [
      "Criteria for Smartphone Selection:\n",
      "{'Price': 1, 'Battery Life': 1, 'Camera Quality': 1}\n"
     ]
    }
   ],
   "source": [
    "import pandas as pd\n",
    "criteria_weights = {\n",
    "    'Price': 1,  # Lower is better\n",
    "    'Battery Life': 1,  # Higher is better\n",
    "    'Camera Quality': 1  # Higher is better\n",
    "}\n",
    "print(\"Criteria for Smartphone Selection:\")\n",
    "print(criteria_weights)"
   ]
  },
  {
   "cell_type": "markdown",
   "metadata": {},
   "source": [
    "### Task 2: Decision Matrix\n",
    "Set up a decision matrix for different smartphone options."
   ]
  },
  {
   "cell_type": "code",
   "execution_count": 8,
   "metadata": {},
   "outputs": [
    {
     "name": "stdout",
     "output_type": "stream",
     "text": [
      "\n",
      "Smartphone Decision Matrix:\n",
      "         Price  Battery Life  Camera Quality\n",
      "Phone A    600            24              12\n",
      "Phone B    800            18              24\n",
      "Phone C   1000            30              48\n"
     ]
    }
   ],
   "source": [
    "data = {\n",
    "    'Price': [600, 800, 1000],  # Price in dollars\n",
    "    'Battery Life': [24, 18, 30],  # Battery life in hours\n",
    "    'Camera Quality': [12, 24, 48]  # Camera quality in megapixels\n",
    "}\n",
    "\n",
    "smartphones = pd.DataFrame(data, index=['Phone A', 'Phone B', 'Phone C'])\n",
    "print(\"\\nSmartphone Decision Matrix:\")\n",
    "print(smartphones)\n"
   ]
  },
  {
   "cell_type": "markdown",
   "metadata": {},
   "source": [
    "### Task 3: Apply Decision Rules\n",
    "Apply decision rules to score each smartphone."
   ]
  },
  {
   "cell_type": "code",
   "execution_count": 20,
   "metadata": {},
   "outputs": [
    {
     "name": "stdout",
     "output_type": "stream",
     "text": [
      "\n",
      "Smartphone Decision Matrix with Scores:\n",
      "         Price  Battery Life  Camera Quality  Score\n",
      "Phone A    600            24              12   35.4\n",
      "Phone B    800            18              24   41.2\n",
      "Phone C   1000            30              48   77.0\n"
     ]
    }
   ],
   "source": [
    "smartphones['Score'] = (smartphones['Battery Life'] * criteria_weights['Battery Life']) + \\\n",
    "                       (smartphones['Camera Quality'] * criteria_weights['Camera Quality']) - \\\n",
    "                       (smartphones['Price'] * criteria_weights['Price'] / 1000)  # Price is divided by 1000 for scale\n",
    "print(\"\\nSmartphone Decision Matrix with Scores:\")\n",
    "print(smartphones[['Price', 'Battery Life', 'Camera Quality', 'Score']])"
   ]
  },
  {
   "cell_type": "markdown",
   "metadata": {},
   "source": [
    "### Task 4: Final Decision\n",
    "Make a decision based on the highest score."
   ]
  },
  {
   "cell_type": "code",
   "execution_count": 18,
   "metadata": {},
   "outputs": [
    {
     "name": "stdout",
     "output_type": "stream",
     "text": [
      "\n",
      "Smartphone Scores:\n",
      "         Score\n",
      "Phone A   35.4\n",
      "Phone B   41.2\n",
      "Phone C   77.0\n",
      "\n",
      "The best smartphone to choose is: Phone C\n"
     ]
    }
   ],
   "source": [
    "best_smartphone = smartphones['Score'].idxmax()\n",
    "print(\"\\nSmartphone Scores:\")\n",
    "print(smartphones[['Score']])\n",
    "\n",
    "print(f\"\\nThe best smartphone to choose is: {best_smartphone}\")"
   ]
  },
  {
   "cell_type": "markdown",
   "metadata": {},
   "source": [
    "### Task 5: Evaluation and Reflection\n",
    "Write your perspctive about Decision Theory. Could the given problem be solved using a different methodology? Explain your answer.\n",
    "Decision Theory is an important framework for making choices in uncertain situations, as it involves a careful evaluation of different options based on set criteria, individual preferences, and expected outcomes, aiming to maximize benefits or minimize risks. When selecting a smartphone, this approach helps assess various factors, such as cost, battery life, and camera capabilities. However, the problem can also be tackled using different methods. For instance, Multi-Criteria Decision Making (MCDM) provides a structured way to handle conflicting criteria through techniques like the Analytical Hierarchy Process (AHP). Cost-Benefit Analysis (CBA) simplifies the decision by expressing criteria in monetary terms. Utility Theory emphasizes personal satisfaction derived from each option, while machine learning can offer insights based on past data to predict the best choice. Thus, although Decision Theory is effective, exploring these alternative methodologies can yield tailored solutions based on specific needs and preferences."
   ]
  },
  {
   "cell_type": "markdown",
   "metadata": {},
   "source": [
    "## Submission\n",
    "Submit a link to your completed Jupyter Notebook file hosted on your private GitHub repository through the submission link in Blackboard."
   ]
  }
 ],
 "metadata": {
  "kernelspec": {
   "display_name": "Python 3 (ipykernel)",
   "language": "python",
   "name": "python3"
  },
  "language_info": {
   "codemirror_mode": {
    "name": "ipython",
    "version": 3
   },
   "file_extension": ".py",
   "mimetype": "text/x-python",
   "name": "python",
   "nbconvert_exporter": "python",
   "pygments_lexer": "ipython3",
   "version": "3.12.4"
  }
 },
 "nbformat": 4,
 "nbformat_minor": 4
}
